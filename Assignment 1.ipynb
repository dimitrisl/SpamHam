{
 "cells": [
  {
   "cell_type": "code",
   "execution_count": 1,
   "metadata": {},
   "outputs": [],
   "source": [
    "from sklearn.pipeline import make_pipeline\n",
    "import pandas as pd\n",
    "from sklearn.feature_extraction.text import TfidfVectorizer\n",
    "from sklearn.metrics import f1_score\n",
    "from sklearn.metrics import confusion_matrix\n",
    "from sklearn.metrics import accuracy_score\n",
    "from sklearn.metrics import classification_report\n",
    "from sklearn.naive_bayes import MultinomialNB\n",
    "from sklearn.model_selection import cross_validate\n",
    "from sklearn.linear_model import LogisticRegression\n",
    "from sklearn.svm import SVC\n",
    "from sklearn.model_selection import train_test_split\n",
    "import spacy\n",
    "# Create CV training and test scores for various training set sizes\n",
    "from sklearn.model_selection import learning_curve\n",
    "import numpy as np\n",
    "import matplotlib.pyplot as plt\n",
    "\n",
    "nlp = spacy.load(\"en_core_web_sm\")\n",
    "\n",
    "\n",
    "def plot_learning_curve(estimator, title, X, y, ylim=None, cv=None,\n",
    "                        n_jobs=1, train_sizes=np.linspace(.1, 1.0, 10), scoring='f1_macro'):\n",
    "    plt.figure()\n",
    "    plt.title(title)\n",
    "    if ylim is not None:\n",
    "        plt.ylim(*ylim)\n",
    "    plt.xlabel(\"Training examples\")\n",
    "    plt.ylabel(\"Score\")\n",
    "    train_sizes, train_scores, test_scores = learning_curve(\n",
    "        estimator, X, y, cv=cv, n_jobs=n_jobs, train_sizes=train_sizes,\n",
    "        scoring=scoring)\n",
    "    train_scores_mean = np.mean(train_scores, axis=1)\n",
    "    train_scores_std = np.std(train_scores, axis=1)\n",
    "    test_scores_mean = np.mean(test_scores, axis=1)\n",
    "    test_scores_std = np.std(test_scores, axis=1)\n",
    "    plt.grid()\n",
    "\n",
    "    plt.fill_between(train_sizes, train_scores_mean - train_scores_std,\n",
    "                     train_scores_mean + train_scores_std, alpha=0.1,\n",
    "                     color=\"r\")\n",
    "    plt.fill_between(train_sizes, test_scores_mean - test_scores_std,\n",
    "                     test_scores_mean + test_scores_std, alpha=0.1, color=\"g\")\n",
    "    plt.plot(train_sizes, train_scores_mean, 'o-', color=\"r\",\n",
    "             label=\"Training score\")\n",
    "    plt.plot(train_sizes, test_scores_mean, 'o-', color=\"g\",\n",
    "             label=\"Cross-validation score\")\n",
    "\n",
    "    plt.legend(loc=\"best\")\n",
    "    return plt\n",
    "\n",
    "\n",
    "\n",
    "def tf_idf(df_data, vectorizer):\n",
    "    X_train, X_test, y_train, y_test = train_test_split(df_data['sentence'], df_data['label'], test_size=0.2,\n",
    "                                                        random_state=42)\n",
    "    features_train_transformed = vectorizer.fit_transform(X_train)  # gives tf idf vector for x_train\n",
    "    features_test_transformed = vectorizer.transform(X_test)  # gives tf idf vector for x_test\n",
    "\n",
    "    return features_train_transformed, features_test_transformed, y_train, y_test\n",
    "\n",
    "\n",
    "def text_to_df(data_path=\"SMSSpamCollection.txt\"):\n",
    "    print(\"morph data into a dataframe\")\n",
    "    with open(data_path, \"r\") as f:\n",
    "        input_text = f.readlines()\n",
    "\n",
    "    input_text = [(i.split(\"\\t\")[0], i.split(\"\\t\")[-1]) for i in input_text]\n",
    "    df_data = pd.DataFrame(input_text, columns=[\"label\", \"sentence\"])\n",
    "    print(\"all data\", df_data.shape)\n",
    "    print(\"spam count\", df_data.loc[df_data[\"label\"] == \"spam\", :].shape[0])\n",
    "    print(\"ham count\", df_data.loc[df_data[\"label\"] == \"ham\", :].shape[0])\n",
    "    df_data[\"label\"] = df_data[\"label\"].apply(lambda x: 1 if x == \"spam\" else 0)\n",
    "    return df_data\n",
    "\n",
    "\n",
    "def cleanup(sentence, del_digits=False, del_punct=False, del_urls_emails=False, del_space=True,\n",
    "            del_stop=True, del_symbols=False, lemma=True):\n",
    "    tokens = []\n",
    "    for token in nlp(sentence):\n",
    "        if token.is_digit and del_digits:\n",
    "            continue\n",
    "        elif token.is_punct and del_punct:\n",
    "            continue\n",
    "        elif token.like_url or token.like_email and del_urls_emails:\n",
    "            continue\n",
    "        elif token.is_stop and del_stop:\n",
    "            continue\n",
    "        elif token.is_space and del_space:\n",
    "            continue\n",
    "        elif token.pos_ in {'SYM', 'X'} and del_symbols:\n",
    "            continue\n",
    "        else:\n",
    "            tokens.append(token.lemma_ if lemma else token.text)\n",
    "    return tokens\n",
    "\n",
    "\n",
    "def get_results(ftt, f_test_t, y_tn, y_ts, classifier):\n",
    "    print(\"value\")\n",
    "    # train the model\n",
    "    classifier.fit(ftt, y_tn)\n",
    "    print(\"classifier accuracy {:.2f}%\".format(classifier.score(f_test_t, y_ts) * 100))\n",
    "\n",
    "    labels = classifier.predict(f_test_t)\n",
    "    actual = y_ts.tolist()\n",
    "    predicted = labels\n",
    "    results = confusion_matrix(actual, predicted)\n",
    "    print('Confusion Matrix :')\n",
    "    print(results)\n",
    "    print('Accuracy Score :', accuracy_score(actual, predicted))\n",
    "    print('Report : ')\n",
    "    print(classification_report(actual, predicted))\n",
    "    score_2 = f1_score(actual, predicted, average='binary')\n",
    "    print('F-Measure: %.3f' % score_2)\n",
    "    return classifier\n"
   ]
  },
  {
   "cell_type": "code",
   "execution_count": 2,
   "metadata": {},
   "outputs": [
    {
     "name": "stdout",
     "output_type": "stream",
     "text": [
      "morph data into a dataframe\n",
      "all data (5574, 2)\n",
      "spam count 747\n",
      "ham count 4827\n",
      "cross validating model\n",
      "[0.96393972 0.96071044 0.96555436]\n",
      "0.9634015069967706\n",
      "value\n",
      "classifier accuracy 96.68%\n",
      "Confusion Matrix :\n",
      "[[952   2]\n",
      " [ 35 126]]\n",
      "Accuracy Score : 0.9668161434977578\n",
      "Report : \n",
      "              precision    recall  f1-score   support\n",
      "\n",
      "           0       0.96      1.00      0.98       954\n",
      "           1       0.98      0.78      0.87       161\n",
      "\n",
      "    accuracy                           0.97      1115\n",
      "   macro avg       0.97      0.89      0.93      1115\n",
      "weighted avg       0.97      0.97      0.97      1115\n",
      "\n",
      "F-Measure: 0.872\n",
      "plotting curves\n"
     ]
    },
    {
     "data": {
      "image/png": "[encoded data removed]",
      "text/plain": [
       "<Figure size 432x288 with 1 Axes>"
      ]
     },
     "metadata": {
      "needs_background": "light"
     },
     "output_type": "display_data"
    },
    {
     "name": "stdout",
     "output_type": "stream",
     "text": [
      "cross validating model\n",
      "[0.95801938 0.95748116 0.95532831]\n",
      "0.9569429494079656\n",
      "value\n",
      "classifier accuracy 96.68%\n",
      "Confusion Matrix :\n",
      "[[954   0]\n",
      " [ 37 124]]\n",
      "Accuracy Score : 0.9668161434977578\n",
      "Report : \n",
      "              precision    recall  f1-score   support\n",
      "\n",
      "           0       0.96      1.00      0.98       954\n",
      "           1       1.00      0.77      0.87       161\n",
      "\n",
      "    accuracy                           0.97      1115\n",
      "   macro avg       0.98      0.89      0.93      1115\n",
      "weighted avg       0.97      0.97      0.96      1115\n",
      "\n",
      "F-Measure: 0.870\n",
      "plotting curves\n"
     ]
    },
    {
     "data": {
      "image/png": "[encoded data removed]",
      "text/plain": [
       "<Figure size 432x288 with 1 Axes>"
      ]
     },
     "metadata": {
      "needs_background": "light"
     },
     "output_type": "display_data"
    },
    {
     "name": "stdout",
     "output_type": "stream",
     "text": [
      "cross validating model\n",
      "[0.98277718 0.9752422  0.98223897]\n",
      "0.9800861141011841\n",
      "value\n",
      "classifier accuracy 98.21%\n",
      "Confusion Matrix :\n",
      "[[951   3]\n",
      " [ 17 144]]\n",
      "Accuracy Score : 0.9820627802690582\n",
      "Report : \n",
      "              precision    recall  f1-score   support\n",
      "\n",
      "           0       0.98      1.00      0.99       954\n",
      "           1       0.98      0.89      0.94       161\n",
      "\n",
      "    accuracy                           0.98      1115\n",
      "   macro avg       0.98      0.95      0.96      1115\n",
      "weighted avg       0.98      0.98      0.98      1115\n",
      "\n",
      "F-Measure: 0.935\n",
      "plotting curves\n"
     ]
    },
    {
     "data": {
      "image/png": "[encoded data removed]",
      "text/plain": [
       "<Figure size 432x288 with 1 Axes>"
      ]
     },
     "metadata": {
      "needs_background": "light"
     },
     "output_type": "display_data"
    }
   ],
   "source": [
    "df_data = text_to_df()\n",
    "\n",
    "vectorizer = TfidfVectorizer(tokenizer=cleanup, lowercase=True)\n",
    "\n",
    "models = [LogisticRegression, MultinomialNB, SVC]\n",
    "\n",
    "for model in models:\n",
    "    print(\"cross validating model\")\n",
    "    clf = make_pipeline(vectorizer, model())\n",
    "    scores = cross_validate(clf, df_data[\"sentence\"], df_data[\"label\"], cv=3, return_train_score=False)\n",
    "    print(scores[\"test_score\"])\n",
    "    print(scores[\"test_score\"].mean())\n",
    "    features_train_transformed, features_test_transformed, y_train, y_test = tf_idf(df_data, vectorizer)\n",
    "\n",
    "    model = get_results(features_train_transformed, features_test_transformed, y_train, y_test, model())\n",
    "    print(\"plotting curves\")\n",
    "    \n",
    "    \n",
    "    plotter = plot_learning_curve(model, \"%s\"%type(model).__name__, features_test_transformed, y_test, (0.1, 1.01), cv=10, n_jobs=-1)\n",
    "    plotter.show()"
   ]
  },
  {
   "cell_type": "code",
   "execution_count": 3,
   "metadata": {},
   "outputs": [
    {
     "data": {
      "text/plain": [
       "['FREE MESSAGE Activate your 500 FREE Text Messages by replying to this message with the word FREE For terms & conditions, visit www.07781482378.com\\n',\n",
       " \"T-Mobile customer you may now claim your FREE CAMERA PHONE upgrade & a pay & go sim card for your loyalty. Call on 0845 021 3680.Offer ends 28thFeb.T&C's apply\\n\",\n",
       " 'Kit Strip - you have been billed 150p. Netcollex Ltd. PO Box 1013 IG11 OJA\\n',\n",
       " 'URGENT This is our 2nd attempt to contact U. Your £900 prize from YESTERDAY is still awaiting collection. To claim CALL NOW 09061702893. ACL03530150PM\\n',\n",
       " 'Call Germany for only 1 pence per minute! Call from a fixed line via access number 0844 861 85 85. No prepayment. Direct access!\\n']"
      ]
     },
     "execution_count": 3,
     "metadata": {},
     "output_type": "execute_result"
    }
   ],
   "source": [
    "df_data.loc[y_test.loc[y_test==1].index,\"sentence\"].to_list()[:5]"
   ]
  },
  {
   "cell_type": "code",
   "execution_count": 4,
   "metadata": {},
   "outputs": [
    {
     "data": {
      "text/plain": [
       "array([1, 1, 1, 1, 1])"
      ]
     },
     "execution_count": 4,
     "metadata": {},
     "output_type": "execute_result"
    }
   ],
   "source": [
    "model.predict(vectorizer.transform(df_data.loc[y_test.loc[y_test==1].index,\"sentence\"].to_list()[:5]))"
   ]
  },
  {
   "cell_type": "code",
   "execution_count": 5,
   "metadata": {},
   "outputs": [
    {
     "data": {
      "text/plain": [
       "['FREE MESSAGE Activate your 500 FREE Text Messages by replying to this message with the word FREE For terms & conditions, visit www.07781482378.com\\n',\n",
       " \"T-Mobile customer you may now claim your FREE CAMERA PHONE upgrade & a pay & go sim card for your loyalty. Call on 0845 021 3680.Offer ends 28thFeb.T&C's apply\\n\",\n",
       " 'Kit Strip - you have been billed 150p. Netcollex Ltd. PO Box 1013 IG11 OJA\\n',\n",
       " 'URGENT This is our 2nd attempt to contact U. Your £900 prize from YESTERDAY is still awaiting collection. To claim CALL NOW 09061702893. ACL03530150PM\\n',\n",
       " 'Call Germany for only 1 pence per minute! Call from a fixed line via access number 0844 861 85 85. No prepayment. Direct access!\\n']"
      ]
     },
     "execution_count": 5,
     "metadata": {},
     "output_type": "execute_result"
    }
   ],
   "source": [
    "df_data.loc[y_test.loc[y_test==1].index,\"sentence\"].to_list()[:5]"
   ]
  },
  {
   "cell_type": "code",
   "execution_count": 6,
   "metadata": {},
   "outputs": [
    {
     "data": {
      "text/plain": [
       "array([0, 0, 0, 0, 0])"
      ]
     },
     "execution_count": 6,
     "metadata": {},
     "output_type": "execute_result"
    }
   ],
   "source": [
    "model.predict(vectorizer.transform(df_data.loc[y_test.loc[y_test==0].index,\"sentence\"].to_list()[:5]))"
   ]
  },
  {
   "cell_type": "code",
   "execution_count": 7,
   "metadata": {},
   "outputs": [],
   "source": [
    "predictions = model.predict(vectorizer.transform(df_data.loc[y_test.index,\"sentence\"].to_list()))"
   ]
  },
  {
   "cell_type": "code",
   "execution_count": 8,
   "metadata": {},
   "outputs": [],
   "source": [
    "y_test = pd.DataFrame(y_test)"
   ]
  },
  {
   "cell_type": "code",
   "execution_count": 9,
   "metadata": {},
   "outputs": [],
   "source": [
    "y_test[\"predicted\"] = predictions"
   ]
  },
  {
   "cell_type": "code",
   "execution_count": 10,
   "metadata": {},
   "outputs": [],
   "source": [
    "diffs = y_test.loc[y_test[\"predicted\"]!=y_test[\"label\"]]"
   ]
  },
  {
   "cell_type": "code",
   "execution_count": 11,
   "metadata": {},
   "outputs": [
    {
     "data": {
      "text/html": [
       "<div>\n",
       "<style scoped>\n",
       "    .dataframe tbody tr th:only-of-type {\n",
       "        vertical-align: middle;\n",
       "    }\n",
       "\n",
       "    .dataframe tbody tr th {\n",
       "        vertical-align: top;\n",
       "    }\n",
       "\n",
       "    .dataframe thead th {\n",
       "        text-align: right;\n",
       "    }\n",
       "</style>\n",
       "<table border=\"1\" class=\"dataframe\">\n",
       "  <thead>\n",
       "    <tr style=\"text-align: right;\">\n",
       "      <th></th>\n",
       "      <th>label</th>\n",
       "      <th>predicted</th>\n",
       "    </tr>\n",
       "  </thead>\n",
       "  <tbody>\n",
       "    <tr>\n",
       "      <th>3742</th>\n",
       "      <td>1</td>\n",
       "      <td>0</td>\n",
       "    </tr>\n",
       "    <tr>\n",
       "      <th>4073</th>\n",
       "      <td>1</td>\n",
       "      <td>0</td>\n",
       "    </tr>\n",
       "    <tr>\n",
       "      <th>1507</th>\n",
       "      <td>1</td>\n",
       "      <td>0</td>\n",
       "    </tr>\n",
       "    <tr>\n",
       "      <th>1893</th>\n",
       "      <td>1</td>\n",
       "      <td>0</td>\n",
       "    </tr>\n",
       "    <tr>\n",
       "      <th>4419</th>\n",
       "      <td>0</td>\n",
       "      <td>1</td>\n",
       "    </tr>\n",
       "  </tbody>\n",
       "</table>\n",
       "</div>"
      ],
      "text/plain": [
       "      label  predicted\n",
       "3742      1          0\n",
       "4073      1          0\n",
       "1507      1          0\n",
       "1893      1          0\n",
       "4419      0          1"
      ]
     },
     "execution_count": 11,
     "metadata": {},
     "output_type": "execute_result"
    }
   ],
   "source": [
    "diffs.head()"
   ]
  },
  {
   "cell_type": "code",
   "execution_count": 12,
   "metadata": {},
   "outputs": [
    {
     "data": {
      "text/plain": [
       "3742                                      2/2 146tf150p\\n\n",
       "4073    Loans for any purpose even if you have Bad Cre...\n",
       "1507    Thanks for the Vote. Now sing along with the s...\n",
       "1893    CALL 09090900040 & LISTEN TO EXTREME DIRTY LIV...\n",
       "4419                         When you get free, call me\\n\n",
       "3501    Dorothy@kiefer.com (Bank of Granite issues Str...\n",
       "2313    tddnewsletter@emc1.co.uk (More games from TheD...\n",
       "227     Will u meet ur dream partner soon? Is ur caree...\n",
       "2663    Hello darling how are you today? I would love ...\n",
       "4821    Check Out Choose Your Babe Videos @ sms.shsex....\n",
       "3885    A link to your picture has been sent. You can ...\n",
       "751     Do you realize that in about 40 years, we'll h...\n",
       "2770    Burger King - Wanna play footy at a top stadiu...\n",
       "4702                             I liked the new mobile\\n\n",
       "881     Reminder: You have not downloaded the content ...\n",
       "4213    Missed call alert. These numbers called but le...\n",
       "2057    .Please charge my mobile when you get up in mo...\n",
       "1777                  Call FREEPHONE 0800 542 0578 now!\\n\n",
       "3064    Hi babe its Jordan, how r u? Im home from abro...\n",
       "731     Email AlertFrom: Jeri StewartSize: 2KBSubject:...\n",
       "Name: sentence, dtype: object"
      ]
     },
     "execution_count": 12,
     "metadata": {},
     "output_type": "execute_result"
    }
   ],
   "source": [
    "df_data.loc[diffs.index, \"sentence\"]"
   ]
  }
 ],
 "metadata": {
  "kernelspec": {
   "display_name": "Python 3",
   "language": "python",
   "name": "python3"
  },
  "language_info": {
   "codemirror_mode": {
    "name": "ipython",
    "version": 3
   },
   "file_extension": ".py",
   "mimetype": "text/x-python",
   "name": "python",
   "nbconvert_exporter": "python",
   "pygments_lexer": "ipython3",
   "version": "3.6.9"
  }
 },
 "nbformat": 4,
 "nbformat_minor": 4
}
